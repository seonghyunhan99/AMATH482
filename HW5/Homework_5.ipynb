{
 "cells": [
  {
   "cell_type": "code",
   "execution_count": 1,
   "metadata": {},
   "outputs": [],
   "source": [
    "# Part I \n",
    "# Fully-connected Neural Network\n",
    "# Load in packages and modules\n",
    "import numpy as np\n",
    "# Tensorflow 2 with Keras built in - Training platform for neural networks\n",
    "import tensorflow as tf\n",
    "# used for plotting\n",
    "import matplotlib.pyplot as plt\n",
    "import pandas as pd\n",
    "from sklearn.metrics import confusion_matrix"
   ]
  },
  {
   "cell_type": "code",
   "execution_count": 2,
   "metadata": {},
   "outputs": [],
   "source": [
    "# Load in fashion MNIST dataset\n",
    "# Keras - does not do all of the computations - it is an api that sits ontop\n",
    "# of Tensorflow and adds easy to use functionalities\n",
    "fashion_mnist = tf.keras.datasets.fashion_mnist\n",
    "(X_train_full, y_train_full), (X_test, y_test) = fashion_mnist.load_data()"
   ]
  },
  {
   "cell_type": "code",
   "execution_count": 3,
   "metadata": {},
   "outputs": [
    {
     "data": {
      "text/plain": [
       "(60000, 28, 28)"
      ]
     },
     "execution_count": 3,
     "metadata": {},
     "output_type": "execute_result"
    }
   ],
   "source": [
    "# Check X_train_full size\n",
    "X_train_full.shape"
   ]
  },
  {
   "cell_type": "code",
   "execution_count": 4,
   "metadata": {},
   "outputs": [
    {
     "data": {
      "image/png": "[encoded data removed]",
      "text/plain": [
       "<Figure size 432x288 with 9 Axes>"
      ]
     },
     "metadata": {
      "needs_background": "light"
     },
     "output_type": "display_data"
    }
   ],
   "source": [
    "plt.figure()\n",
    "for k in range(9):\n",
    "    plt.subplot(3,3,k+1)\n",
    "    plt.imshow(X_train_full[k], cmap = 'gray')\n",
    "    plt.axis('off')\n",
    "plt.show()"
   ]
  },
  {
   "cell_type": "code",
   "execution_count": 5,
   "metadata": {},
   "outputs": [
    {
     "data": {
      "text/plain": [
       "array([9, 0, 0, 3, 0, 2, 7, 2, 5], dtype=uint8)"
      ]
     },
     "execution_count": 5,
     "metadata": {},
     "output_type": "execute_result"
    }
   ],
   "source": [
    "y_train_full[:9]"
   ]
  },
  {
   "cell_type": "code",
   "execution_count": 6,
   "metadata": {},
   "outputs": [],
   "source": [
    "# Preprocessing\n",
    "# 5000 images for validation data as floats\n",
    "X_valid = X_train_full[:5000] / 255.0\n",
    "# 55000 images for training as floats\n",
    "X_train = X_train_full[5000:] / 255.0\n",
    "# 10000 test images floats\n",
    "X_test = X_test / 255.0\n",
    "\n",
    "y_valid = y_train_full[:5000]\n",
    "y_train = y_train_full[5000:]"
   ]
  },
  {
   "cell_type": "code",
   "execution_count": 7,
   "metadata": {},
   "outputs": [],
   "source": [
    "# Create our model\n",
    "# Hyperparameters - parameters about network that you adjust before\n",
    "# training procedure\n",
    "from functools import partial\n",
    "\n",
    "# Hyperparamter - regularization: help prevent overfitting - adds something\n",
    "# to loss function - constant times the two norm of your weight matrices\n",
    "# where the weights are relatively small - motivation:  \n",
    "my_dense_layer = partial(tf.keras.layers.Dense, activation='relu',\n",
    "                         kernel_regularizer=tf.keras.regularizers.l2(0.00001))\n",
    "\n",
    "# From one layer, feeds into the next layer: feed-forward \n",
    "model = tf.keras.models.Sequential([\n",
    "    # convert image into flattened list\n",
    "    tf.keras.layers.Flatten(input_shape=[28, 28]),\n",
    "    # can increase layer width and depth \n",
    "    my_dense_layer(500),\n",
    "    my_dense_layer(250),\n",
    "    my_dense_layer(125),\n",
    "    # output layer of 10 possible fashion item outputs; get ten probabilities\n",
    "    my_dense_layer(10, activation='softmax')\n",
    "])"
   ]
  },
  {
   "cell_type": "code",
   "execution_count": 8,
   "metadata": {},
   "outputs": [],
   "source": [
    "# Options for training our model\n",
    "# cross entropy loss for classification; sparse_categorical = list of int\n",
    "model.compile(loss='sparse_categorical_crossentropy',\n",
    "             # learning rate = determines how much you will change each of\n",
    "             # weight and biases per step of the optimization\n",
    "             optimizer=tf.keras.optimizers.Adam(learning_rate=0.0001),\n",
    "             # how many you got right as probability\n",
    "             metrics=['accuracy'])"
   ]
  },
  {
   "cell_type": "code",
   "execution_count": 9,
   "metadata": {
    "scrolled": true
   },
   "outputs": [
    {
     "name": "stdout",
     "output_type": "stream",
     "text": [
      "Train on 55000 samples, validate on 5000 samples\n",
      "Epoch 1/20\n",
      "55000/55000 [==============================] - 21s 384us/sample - loss: 0.5739 - accuracy: 0.8093 - val_loss: 0.4133 - val_accuracy: 0.8602\n",
      "Epoch 2/20\n",
      "55000/55000 [==============================] - 18s 321us/sample - loss: 0.4011 - accuracy: 0.8617 - val_loss: 0.3824 - val_accuracy: 0.8732\n",
      "Epoch 3/20\n",
      "55000/55000 [==============================] - 18s 321us/sample - loss: 0.3601 - accuracy: 0.8757 - val_loss: 0.3513 - val_accuracy: 0.8810\n",
      "Epoch 4/20\n",
      "55000/55000 [==============================] - 17s 312us/sample - loss: 0.3317 - accuracy: 0.8840 - val_loss: 0.3257 - val_accuracy: 0.8874\n",
      "Epoch 5/20\n",
      "55000/55000 [==============================] - 17s 307us/sample - loss: 0.3091 - accuracy: 0.8914 - val_loss: 0.3207 - val_accuracy: 0.8884\n",
      "Epoch 6/20\n",
      "55000/55000 [==============================] - 18s 320us/sample - loss: 0.2933 - accuracy: 0.8959 - val_loss: 0.3411 - val_accuracy: 0.8812\n",
      "Epoch 7/20\n",
      "55000/55000 [==============================] - 18s 322us/sample - loss: 0.2784 - accuracy: 0.9014 - val_loss: 0.3060 - val_accuracy: 0.8920\n",
      "Epoch 8/20\n",
      "55000/55000 [==============================] - 17s 305us/sample - loss: 0.2646 - accuracy: 0.9074 - val_loss: 0.3223 - val_accuracy: 0.8840\n",
      "Epoch 9/20\n",
      "55000/55000 [==============================] - 17s 310us/sample - loss: 0.2530 - accuracy: 0.9111 - val_loss: 0.3080 - val_accuracy: 0.8950\n",
      "Epoch 10/20\n",
      "55000/55000 [==============================] - 17s 308us/sample - loss: 0.2418 - accuracy: 0.9160 - val_loss: 0.3273 - val_accuracy: 0.8864\n",
      "Epoch 11/20\n",
      "55000/55000 [==============================] - 17s 303us/sample - loss: 0.2326 - accuracy: 0.9194 - val_loss: 0.3122 - val_accuracy: 0.8954\n",
      "Epoch 12/20\n",
      "55000/55000 [==============================] - 17s 302us/sample - loss: 0.2240 - accuracy: 0.9223 - val_loss: 0.3055 - val_accuracy: 0.8988\n",
      "Epoch 13/20\n",
      "55000/55000 [==============================] - 17s 310us/sample - loss: 0.2141 - accuracy: 0.9249 - val_loss: 0.3183 - val_accuracy: 0.8928\n",
      "Epoch 14/20\n",
      "55000/55000 [==============================] - 17s 309us/sample - loss: 0.2073 - accuracy: 0.9283 - val_loss: 0.2966 - val_accuracy: 0.9004\n",
      "Epoch 15/20\n",
      "55000/55000 [==============================] - 17s 311us/sample - loss: 0.1980 - accuracy: 0.9328 - val_loss: 0.3076 - val_accuracy: 0.8998\n",
      "Epoch 16/20\n",
      "55000/55000 [==============================] - 17s 317us/sample - loss: 0.1903 - accuracy: 0.9348 - val_loss: 0.3178 - val_accuracy: 0.8968\n",
      "Epoch 17/20\n",
      "55000/55000 [==============================] - 18s 321us/sample - loss: 0.1835 - accuracy: 0.9375 - val_loss: 0.3082 - val_accuracy: 0.8998\n",
      "Epoch 18/20\n",
      "55000/55000 [==============================] - 17s 300us/sample - loss: 0.1749 - accuracy: 0.9410 - val_loss: 0.3137 - val_accuracy: 0.8998\n",
      "Epoch 19/20\n",
      "55000/55000 [==============================] - 18s 326us/sample - loss: 0.1705 - accuracy: 0.9421 - val_loss: 0.3104 - val_accuracy: 0.9016\n",
      "Epoch 20/20\n",
      "55000/55000 [==============================] - 19s 347us/sample - loss: 0.1629 - accuracy: 0.9453 - val_loss: 0.3151 - val_accuracy: 0.9006\n"
     ]
    }
   ],
   "source": [
    "# epochs = how many optimization steps you want to use\n",
    "history = model.fit(X_train, y_train, epochs=20, validation_data=(X_valid, y_valid))"
   ]
  },
  {
   "cell_type": "code",
   "execution_count": 14,
   "metadata": {},
   "outputs": [
    {
     "data": {
      "image/png": "[encoded data removed]",
      "text/plain": [
       "<Figure size 576x360 with 1 Axes>"
      ]
     },
     "metadata": {
      "needs_background": "light"
     },
     "output_type": "display_data"
    }
   ],
   "source": [
    "pd.DataFrame(history.history).plot(figsize=(8,5))\n",
    "plt.grid(True)\n",
    "plt.gca().set_ylim(0,1)\n",
    "plt.title('Training History')\n",
    "plt.xlabel('Epochs')\n",
    "plt.ylabel('Probability')\n",
    "plt.savefig('training_history_1.png')\n",
    "plt.show()\n",
    "# no over-fitting when training loss goes below validation loss\n",
    "# want validation loss at the bottom"
   ]
  },
  {
   "cell_type": "code",
   "execution_count": 11,
   "metadata": {},
   "outputs": [
    {
     "name": "stdout",
     "output_type": "stream",
     "text": [
      "[[5190    3   16   45    5    0  283    0    1    0]\n",
      " [   0 5435    0    5    1    0    3    0    0    0]\n",
      " [  59    1 4393   26  622    0  394    0    1    0]\n",
      " [  39   17    3 5203  188    0   48    0    1    0]\n",
      " [   7    4   82   42 5264    0  111    0    2    0]\n",
      " [   0    0    0    0    0 5507    0    0    0    0]\n",
      " [ 247    4   46   48  213    0 4948    0    1    0]\n",
      " [   0    0    0    0    0    6    0 5451    0   31]\n",
      " [   1    1    0    0    3    0    1    1 5503    0]\n",
      " [   0    0    0    0    0    0    0   78    0 5416]]\n"
     ]
    }
   ],
   "source": [
    "# Make confusion matrix for training data\n",
    "y_pred = model.predict_classes(X_train)\n",
    "conf_train = confusion_matrix(y_train, y_pred)\n",
    "print(conf_train)\n",
    "# row represent predictions, columns represent actual labels\n",
    "# Diagonals shows which values we got right \n",
    "# Useful for seeing where our algorithm went wrong - see off diagonals"
   ]
  },
  {
   "cell_type": "code",
   "execution_count": 12,
   "metadata": {
    "scrolled": true
   },
   "outputs": [
    {
     "name": "stdout",
     "output_type": "stream",
     "text": [
      "10000/10000 [==============================] - 1s 102us/sample - loss: 0.3464 - accuracy: 0.8939\n"
     ]
    },
    {
     "data": {
      "text/plain": [
       "[0.3463535714864731, 0.8939]"
      ]
     },
     "execution_count": 12,
     "metadata": {},
     "output_type": "execute_result"
    }
   ],
   "source": [
    "model.evaluate(X_test, y_test)\n",
    "# returns loss, accuracy"
   ]
  },
  {
   "cell_type": "code",
   "execution_count": 13,
   "metadata": {},
   "outputs": [
    {
     "name": "stdout",
     "output_type": "stream",
     "text": [
      "[[870   2   5  13   6   1  93   0  10   0]\n",
      " [  1 981   0  10   3   0   4   0   1   0]\n",
      " [ 21   0 692  14 154   1 117   0   1   0]\n",
      " [ 20  15   7 872  51   1  31   0   3   0]\n",
      " [  2   0  32  13 902   0  49   0   2   0]\n",
      " [  0   0   0   1   0 974   0  16   0   9]\n",
      " [109   0  34  20  73   0 758   0   6   0]\n",
      " [  0   0   0   0   0  18   0 961   0  21]\n",
      " [  6   0   0   4   4   2   5   4 975   0]\n",
      " [  0   0   0   0   0  11   1  34   0 954]]\n"
     ]
    }
   ],
   "source": [
    "y_pred = model.predict_classes(X_test)\n",
    "conf_test = confusion_matrix(y_test, y_pred)\n",
    "print(conf_test)"
   ]
  },
  {
   "cell_type": "code",
   "execution_count": 15,
   "metadata": {},
   "outputs": [
    {
     "data": {
      "image/png": "[encoded data removed]",
      "text/plain": [
       "<Figure size 432x288 with 1 Axes>"
      ]
     },
     "metadata": {
      "needs_background": "light"
     },
     "output_type": "display_data"
    }
   ],
   "source": [
    "fig, ax = plt.subplots()\n",
    "\n",
    "# hide axes\n",
    "fig.patch.set_visible(False)\n",
    "ax.axis('off')\n",
    "ax.axis('tight')\n",
    "\n",
    "# create table and save to file\n",
    "df = pd.DataFrame(conf_test)\n",
    "ax.table(cellText=df.values, rowLabels=np.arange(10), colLabels=np.arange(10), loc='center', cellLoc='center')\n",
    "fig.tight_layout()\n",
    "plt.savefig('conf_mat_1.png')"
   ]
  },
  {
   "cell_type": "code",
   "execution_count": null,
   "metadata": {},
   "outputs": [],
   "source": [
    "# Part II Convolutional neural network - CNN"
   ]
  },
  {
   "cell_type": "code",
   "execution_count": 16,
   "metadata": {},
   "outputs": [],
   "source": [
    "fashion_mnist = tf.keras.datasets.fashion_mnist\n",
    "(X_train_full, y_train_full), (X_test, y_test) = fashion_mnist.load_data()"
   ]
  },
  {
   "cell_type": "code",
   "execution_count": 17,
   "metadata": {},
   "outputs": [],
   "source": [
    "# Tensorflow wants 55000,28,28,1 for each convolutional layers (1 for grayscale)\n",
    "\n",
    "X_valid = X_train_full[:5000] / 255.0\n",
    "X_train = X_train_full[5000:] / 255.0\n",
    "X_test = X_test / 255.0\n",
    "\n",
    "y_valid = y_train_full[:5000]\n",
    "y_train = y_train_full[5000:]\n",
    "\n",
    "X_train = X_train[..., np.newaxis]\n",
    "X_valid = X_valid[..., np.newaxis]\n",
    "X_test = X_test[..., np.newaxis]"
   ]
  },
  {
   "cell_type": "code",
   "execution_count": 18,
   "metadata": {},
   "outputs": [],
   "source": [
    "# Create CNN Model\n",
    "# Don't have to flatten each image\n",
    "from functools import partial\n",
    "\n",
    "my_dense_layer = partial(tf.keras.layers.Dense, activation=\"relu\", kernel_regularizer=tf.keras.regularizers.l2(0.0001))\n",
    "my_conv_layer = partial(tf.keras.layers.Conv2D, activation=\"relu\", padding=\"same\")\n",
    "# zero padding = size of the feature map is the same size as the input\n",
    "model = tf.keras.models.Sequential([\n",
    "    # my_conv_layer(number of filters, size of filter)\n",
    "    my_conv_layer(16,3,padding=\"same\",input_shape=[28,28,1]),\n",
    "    # 2 x 2 pool size with stride 2\n",
    "    tf.keras.layers.MaxPooling2D(2),\n",
    "    my_conv_layer(32,3),\n",
    "    tf.keras.layers.MaxPooling2D(2),\n",
    "    my_conv_layer(64,3),\n",
    "    tf.keras.layers.Flatten(),\n",
    "    my_dense_layer(64),\n",
    "    my_dense_layer(10, activation=\"softmax\")\n",
    "])"
   ]
  },
  {
   "cell_type": "code",
   "execution_count": 19,
   "metadata": {},
   "outputs": [],
   "source": [
    "model.compile(loss=\"sparse_categorical_crossentropy\",\n",
    "             optimizer=tf.keras.optimizers.Adam(learning_rate=0.001),\n",
    "             metrics=[\"accuracy\"])"
   ]
  },
  {
   "cell_type": "code",
   "execution_count": 20,
   "metadata": {},
   "outputs": [
    {
     "name": "stdout",
     "output_type": "stream",
     "text": [
      "Train on 55000 samples, validate on 5000 samples\n",
      "Epoch 1/10\n",
      "55000/55000 [==============================] - 55s 1ms/sample - loss: 0.4728 - accuracy: 0.8355 - val_loss: 0.3362 - val_accuracy: 0.8824\n",
      "Epoch 2/10\n",
      "55000/55000 [==============================] - 50s 911us/sample - loss: 0.3186 - accuracy: 0.8908 - val_loss: 0.3133 - val_accuracy: 0.8950\n",
      "Epoch 3/10\n",
      "55000/55000 [==============================] - 47s 851us/sample - loss: 0.2774 - accuracy: 0.9059 - val_loss: 0.2991 - val_accuracy: 0.9020\n",
      "Epoch 4/10\n",
      "55000/55000 [==============================] - 44s 794us/sample - loss: 0.2545 - accuracy: 0.9155 - val_loss: 0.2607 - val_accuracy: 0.917044 - ac - ETA: 0s - loss: 0.254\n",
      "Epoch 5/10\n",
      "55000/55000 [==============================] - 34s 623us/sample - loss: 0.2359 - accuracy: 0.9237 - val_loss: 0.2552 - val_accuracy: 0.9172\n",
      "Epoch 6/10\n",
      "55000/55000 [==============================] - 36s 652us/sample - loss: 0.2195 - accuracy: 0.9309 - val_loss: 0.2607 - val_accuracy: 0.9158\n",
      "Epoch 7/10\n",
      "55000/55000 [==============================] - 36s 662us/sample - loss: 0.2077 - accuracy: 0.9354 - val_loss: 0.2482 - val_accuracy: 0.9232\n",
      "Epoch 8/10\n",
      "55000/55000 [==============================] - 34s 610us/sample - loss: 0.1952 - accuracy: 0.9404 - val_loss: 0.2599 - val_accuracy: 0.9200\n",
      "Epoch 9/10\n",
      "55000/55000 [==============================] - 29s 523us/sample - loss: 0.1847 - accuracy: 0.9454 - val_loss: 0.2538 - val_accuracy: 0.9202  - ETA: 0s - loss: 0.1847 \n",
      "Epoch 10/10\n",
      "55000/55000 [==============================] - 29s 528us/sample - loss: 0.1724 - accuracy: 0.9502 - val_loss: 0.2698 - val_accuracy: 0.9220\n"
     ]
    }
   ],
   "source": [
    "history = model.fit(X_train, y_train, epochs=10, validation_data=(X_valid,y_valid))"
   ]
  },
  {
   "cell_type": "code",
   "execution_count": 23,
   "metadata": {},
   "outputs": [
    {
     "data": {
      "image/png": "[encoded data removed]",
      "text/plain": [
       "<Figure size 576x360 with 1 Axes>"
      ]
     },
     "metadata": {
      "needs_background": "light"
     },
     "output_type": "display_data"
    }
   ],
   "source": [
    "pd.DataFrame(history.history).plot(figsize=(8,5))\n",
    "plt.grid(True)\n",
    "plt.gca().set_ylim(0,1)\n",
    "plt.title('Training History')\n",
    "plt.xlabel('Epochs')\n",
    "plt.ylabel('Probability')\n",
    "plt.savefig('training_history_2.png')\n",
    "plt.show()"
   ]
  },
  {
   "cell_type": "code",
   "execution_count": 24,
   "metadata": {},
   "outputs": [
    {
     "name": "stdout",
     "output_type": "stream",
     "text": [
      "[[5360    0   49   16    5    0  109    0    4    0]\n",
      " [   0 5438    0    4    2    0    0    0    0    0]\n",
      " [  39    0 5152   11  240    0   53    0    1    0]\n",
      " [  55    7   15 5243  131    0   48    0    0    0]\n",
      " [   3    1   86   32 5349    0   40    0    1    0]\n",
      " [   0    0    0    0    0 5494    0    7    0    6]\n",
      " [ 454    2  200   26  302    0 4516    0    7    0]\n",
      " [   0    0    0    0    0   16    0 5461    4    7]\n",
      " [   1    0    0    1    0    0    1    0 5507    0]\n",
      " [   0    0    0    0    0    2    0  236    0 5256]]\n"
     ]
    }
   ],
   "source": [
    "y_pred = model.predict_classes(X_train)\n",
    "conf_train = confusion_matrix(y_train, y_pred)\n",
    "print(conf_train)"
   ]
  },
  {
   "cell_type": "code",
   "execution_count": 25,
   "metadata": {},
   "outputs": [
    {
     "name": "stdout",
     "output_type": "stream",
     "text": [
      "10000/10000 [==============================] - 1s 127us/sample - loss: 0.2949 - accuracy: 0.9161\n"
     ]
    },
    {
     "data": {
      "text/plain": [
       "[0.29485756080150605, 0.9161]"
      ]
     },
     "execution_count": 25,
     "metadata": {},
     "output_type": "execute_result"
    }
   ],
   "source": [
    "model.evaluate(X_test,y_test) "
   ]
  },
  {
   "cell_type": "code",
   "execution_count": 26,
   "metadata": {
    "scrolled": true
   },
   "outputs": [
    {
     "name": "stdout",
     "output_type": "stream",
     "text": [
      "[[911   1  20   5   4   1  54   0   4   0]\n",
      " [  1 985   0   7   5   0   0   0   2   0]\n",
      " [ 16   1 895   5  54   0  29   0   0   0]\n",
      " [ 25   5  12 893  38   0  22   0   5   0]\n",
      " [  1   1  25  15 925   0  33   0   0   0]\n",
      " [  0   0   0   0   0 987   0   8   0   5]\n",
      " [134   1  72  16 104   0 664   0   9   0]\n",
      " [  0   0   0   0   0   7   0 986   1   6]\n",
      " [  3   1   2   1   4   2   3   1 982   1]\n",
      " [  0   0   0   0   0   4   0  62   1 933]]\n"
     ]
    }
   ],
   "source": [
    "y_pred = model.predict_classes(X_test)\n",
    "conf_test = confusion_matrix(y_test, y_pred)\n",
    "print(conf_test)"
   ]
  },
  {
   "cell_type": "code",
   "execution_count": 27,
   "metadata": {
    "scrolled": true
   },
   "outputs": [
    {
     "data": {
      "image/png": "[encoded data removed]",
      "text/plain": [
       "<Figure size 432x288 with 1 Axes>"
      ]
     },
     "metadata": {
      "needs_background": "light"
     },
     "output_type": "display_data"
    }
   ],
   "source": [
    "fig, ax = plt.subplots()\n",
    "\n",
    "# hide axes\n",
    "fig.patch.set_visible(False)\n",
    "ax.axis('off')\n",
    "ax.axis('tight')\n",
    "\n",
    "# create table and save to file\n",
    "df = pd.DataFrame(conf_test)\n",
    "ax.table(cellText=df.values, rowLabels=np.arange(10), colLabels=np.arange(10), loc='center', cellLoc='center')\n",
    "fig.tight_layout()\n",
    "plt.savefig('conf_mat_2.png')"
   ]
  },
  {
   "cell_type": "code",
   "execution_count": null,
   "metadata": {},
   "outputs": [],
   "source": []
  }
 ],
 "metadata": {
  "kernelspec": {
   "display_name": "amath482",
   "language": "python",
   "name": "amath482"
  },
  "language_info": {
   "codemirror_mode": {
    "name": "ipython",
    "version": 3
   },
   "file_extension": ".py",
   "mimetype": "text/x-python",
   "name": "python",
   "nbconvert_exporter": "python",
   "pygments_lexer": "ipython3",
   "version": "3.7.6"
  }
 },
 "nbformat": 4,
 "nbformat_minor": 4
}
